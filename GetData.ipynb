{
 "cells": [
  {
   "cell_type": "code",
   "execution_count": 83,
   "metadata": {},
   "outputs": [],
   "source": [
    "import requests\n",
    "import re\n",
    "import codecs\n",
    "from bs4 import BeautifulSoup"
   ]
  },
  {
   "cell_type": "code",
   "execution_count": 6,
   "metadata": {},
   "outputs": [],
   "source": [
    "response = requests.get('https://regularshow.fandom.com/wiki/Category:Transcripts')\n",
    "html = BeautifulSoup(response.text, 'html5lib')"
   ]
  },
  {
   "cell_type": "code",
   "execution_count": 25,
   "metadata": {},
   "outputs": [],
   "source": [
    "links = []\n",
    "for thing in html.find_all('a'):\n",
    "    if '/Transcript' in str(thing):\n",
    "        links.append(thing.get('href'))"
   ]
  },
  {
   "cell_type": "code",
   "execution_count": 31,
   "metadata": {},
   "outputs": [],
   "source": [
    "base = \"https://regularshow.fandom.com\""
   ]
  },
  {
   "cell_type": "code",
   "execution_count": 36,
   "metadata": {},
   "outputs": [],
   "source": [
    "complete_links = [base + str(link) for link in links]\n",
    "complete_links = list(set(complete_links))"
   ]
  },
  {
   "cell_type": "code",
   "execution_count": 86,
   "metadata": {},
   "outputs": [],
   "source": [
    "broken_links = []"
   ]
  },
  {
   "cell_type": "code",
   "execution_count": 87,
   "metadata": {},
   "outputs": [
    {
     "name": "stdout",
     "output_type": "stream",
     "text": [
      "error writing to file\n",
      "error writing to file\n",
      "error writing to file\n",
      "error writing to file\n",
      "error writing to file\n",
      "error writing to file\n",
      "error writing to file\n",
      "error writing to file\n",
      "error writing to file\n",
      "error writing to file\n",
      "error writing to file\n",
      "error writing to file\n",
      "error writing to file\n",
      "error writing to file\n",
      "error writing to file\n",
      "error writing to file\n",
      "error writing to file\n",
      "error writing to file\n",
      "error writing to file\n",
      "error writing to file\n",
      "error writing to file\n"
     ]
    }
   ],
   "source": [
    "for link in complete_links:\n",
    "    res = requests.get(link)\n",
    "    soup = BeautifulSoup(res.text, 'html5lib')\n",
    "    lines = soup.findAll('p')\n",
    "    valid_lines = []\n",
    "    for line in lines:\n",
    "        if (':' in str(line) or '(' in str(line)) and 'Transcript' not in str(line):\n",
    "            valid_lines.append(line)\n",
    "    text = \"\"\n",
    "    for line in valid_lines:\n",
    "        text += line.getText()\n",
    "        text += '\\n'\n",
    "    file_name = link.split('/')[-2].replace('%27',\"\").replace('%3F', '')\n",
    "    try:\n",
    "        file = codecs.open(f'data/{file_name}.txt', 'w+')\n",
    "        file.write(text)\n",
    "        file.close()\n",
    "    except:\n",
    "        broken_links.append(link)\n",
    "        print(\"error writing to file\")"
   ]
  },
  {
   "cell_type": "code",
   "execution_count": 88,
   "metadata": {},
   "outputs": [
    {
     "data": {
      "text/plain": [
       "21"
      ]
     },
     "execution_count": 88,
     "metadata": {},
     "output_type": "execute_result"
    }
   ],
   "source": [
    "len(broken_links)"
   ]
  }
 ],
 "metadata": {
  "kernelspec": {
   "display_name": "Python 3",
   "language": "python",
   "name": "python3"
  },
  "language_info": {
   "codemirror_mode": {
    "name": "ipython",
    "version": 3
   },
   "file_extension": ".py",
   "mimetype": "text/x-python",
   "name": "python",
   "nbconvert_exporter": "python",
   "pygments_lexer": "ipython3",
   "version": "3.8.5"
  }
 },
 "nbformat": 4,
 "nbformat_minor": 4
}
